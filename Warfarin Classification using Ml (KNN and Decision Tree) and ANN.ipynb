{
 "cells": [
  {
   "cell_type": "markdown",
   "id": "c8471ff4",
   "metadata": {},
   "source": [
    "### Loading, Cross-Checking and Cleaning of the data\n",
    "Python provides tools that assist with data analysis and manipulation\n",
    "In this section pandas will be used."
   ]
  },
  {
   "cell_type": "code",
   "execution_count": 155,
   "id": "360407d7",
   "metadata": {},
   "outputs": [],
   "source": [
    "# import libraries\n",
    "import pandas as pd"
   ]
  },
  {
   "cell_type": "code",
   "execution_count": 156,
   "id": "04e0ccdd",
   "metadata": {},
   "outputs": [
    {
     "data": {
      "text/html": [
       "<div>\n",
       "<style scoped>\n",
       "    .dataframe tbody tr th:only-of-type {\n",
       "        vertical-align: middle;\n",
       "    }\n",
       "\n",
       "    .dataframe tbody tr th {\n",
       "        vertical-align: top;\n",
       "    }\n",
       "\n",
       "    .dataframe thead th {\n",
       "        text-align: right;\n",
       "    }\n",
       "</style>\n",
       "<table border=\"1\" class=\"dataframe\">\n",
       "  <thead>\n",
       "    <tr style=\"text-align: right;\">\n",
       "      <th></th>\n",
       "      <th>Phenotype Data File Name</th>\n",
       "      <th>Warfarin Consortium Combined Data Set, March 2008</th>\n",
       "      <th>Unnamed: 2</th>\n",
       "      <th>Unnamed: 3</th>\n",
       "      <th>Unnamed: 4</th>\n",
       "    </tr>\n",
       "  </thead>\n",
       "  <tbody>\n",
       "    <tr>\n",
       "      <th>0</th>\n",
       "      <td>NaN</td>\n",
       "      <td>NaN</td>\n",
       "      <td>NaN</td>\n",
       "      <td>NaN</td>\n",
       "      <td>NaN</td>\n",
       "    </tr>\n",
       "    <tr>\n",
       "      <th>1</th>\n",
       "      <td>Group</td>\n",
       "      <td>IWPC</td>\n",
       "      <td>NaN</td>\n",
       "      <td>NaN</td>\n",
       "      <td>NaN</td>\n",
       "    </tr>\n",
       "    <tr>\n",
       "      <th>2</th>\n",
       "      <td>Investigator</td>\n",
       "      <td>International Warfarin Pharmacogenetics Consor...</td>\n",
       "      <td>NaN</td>\n",
       "      <td>NaN</td>\n",
       "      <td>NaN</td>\n",
       "    </tr>\n",
       "    <tr>\n",
       "      <th>3</th>\n",
       "      <td>Contact</td>\n",
       "      <td>International Warfarin Pharmacogenetics Consor...</td>\n",
       "      <td>NaN</td>\n",
       "      <td>NaN</td>\n",
       "      <td>NaN</td>\n",
       "    </tr>\n",
       "    <tr>\n",
       "      <th>4</th>\n",
       "      <td>Reference</td>\n",
       "      <td>see http://www.pharmgkb.org/views/project.jsp?...</td>\n",
       "      <td>NaN</td>\n",
       "      <td>NaN</td>\n",
       "      <td>NaN</td>\n",
       "    </tr>\n",
       "  </tbody>\n",
       "</table>\n",
       "</div>"
      ],
      "text/plain": [
       "  Phenotype Data File Name  Warfarin Consortium Combined Data Set, March 2008  \\\n",
       "0                      NaN                                                NaN   \n",
       "1                    Group                                               IWPC   \n",
       "2             Investigator  International Warfarin Pharmacogenetics Consor...   \n",
       "3                  Contact  International Warfarin Pharmacogenetics Consor...   \n",
       "4                Reference  see http://www.pharmgkb.org/views/project.jsp?...   \n",
       "\n",
       "  Unnamed: 2 Unnamed: 3 Unnamed: 4  \n",
       "0        NaN        NaN        NaN  \n",
       "1        NaN        NaN        NaN  \n",
       "2        NaN        NaN        NaN  \n",
       "3        NaN        NaN        NaN  \n",
       "4        NaN        NaN        NaN  "
      ]
     },
     "execution_count": 156,
     "metadata": {},
     "output_type": "execute_result"
    }
   ],
   "source": [
    "df_meta = pd.read_excel('PS206767-553247439.xls', sheet_name='Metadata')\n",
    "df_meta.head()"
   ]
  },
  {
   "cell_type": "code",
   "execution_count": 157,
   "id": "ff298a7c",
   "metadata": {},
   "outputs": [
    {
     "data": {
      "text/html": [
       "<div>\n",
       "<style scoped>\n",
       "    .dataframe tbody tr th:only-of-type {\n",
       "        vertical-align: middle;\n",
       "    }\n",
       "\n",
       "    .dataframe tbody tr th {\n",
       "        vertical-align: top;\n",
       "    }\n",
       "\n",
       "    .dataframe thead th {\n",
       "        text-align: right;\n",
       "    }\n",
       "</style>\n",
       "<table border=\"1\" class=\"dataframe\">\n",
       "  <thead>\n",
       "    <tr style=\"text-align: right;\">\n",
       "      <th></th>\n",
       "      <th>PharmGKB Subject ID</th>\n",
       "      <th>PharmGKB Sample ID</th>\n",
       "      <th>Project Site</th>\n",
       "      <th>Gender</th>\n",
       "      <th>Race (Reported)</th>\n",
       "      <th>Race (OMB)</th>\n",
       "      <th>Ethnicity (Reported)</th>\n",
       "      <th>Ethnicity (OMB)</th>\n",
       "      <th>Age</th>\n",
       "      <th>Height (cm)</th>\n",
       "      <th>...</th>\n",
       "      <th>VKORC1 QC genotype: -4451 C&gt;A (861); Chr16:31018002; rs17880887; A/C</th>\n",
       "      <th>CYP2C9 consensus</th>\n",
       "      <th>VKORC1 -1639 consensus</th>\n",
       "      <th>VKORC1 497 consensus</th>\n",
       "      <th>VKORC1 1173 consensus</th>\n",
       "      <th>VKORC1 1542 consensus</th>\n",
       "      <th>VKORC1 3730 consensus</th>\n",
       "      <th>VKORC1 2255 consensus</th>\n",
       "      <th>VKORC1 -4451 consensus</th>\n",
       "      <th>Comments regarding Project Site Dataset</th>\n",
       "    </tr>\n",
       "  </thead>\n",
       "  <tbody>\n",
       "    <tr>\n",
       "      <th>0</th>\n",
       "      <td>PA135312261</td>\n",
       "      <td>PA135312629</td>\n",
       "      <td>1</td>\n",
       "      <td>male</td>\n",
       "      <td>White</td>\n",
       "      <td>White</td>\n",
       "      <td>not Hispanic or Latino</td>\n",
       "      <td>not Hispanic or Latino</td>\n",
       "      <td>60 - 69</td>\n",
       "      <td>193.040</td>\n",
       "      <td>...</td>\n",
       "      <td>NaN</td>\n",
       "      <td>*1/*1</td>\n",
       "      <td>A/G</td>\n",
       "      <td>G/T</td>\n",
       "      <td>NaN</td>\n",
       "      <td>C/G</td>\n",
       "      <td>A/G</td>\n",
       "      <td>NaN</td>\n",
       "      <td>NaN</td>\n",
       "      <td>Project 1:</td>\n",
       "    </tr>\n",
       "    <tr>\n",
       "      <th>1</th>\n",
       "      <td>PA135312262</td>\n",
       "      <td>PA135312630</td>\n",
       "      <td>1</td>\n",
       "      <td>female</td>\n",
       "      <td>White</td>\n",
       "      <td>White</td>\n",
       "      <td>not Hispanic or Latino</td>\n",
       "      <td>not Hispanic or Latino</td>\n",
       "      <td>50 - 59</td>\n",
       "      <td>176.530</td>\n",
       "      <td>...</td>\n",
       "      <td>C/C</td>\n",
       "      <td>*1/*1</td>\n",
       "      <td>A/A</td>\n",
       "      <td>G/T</td>\n",
       "      <td>T/T</td>\n",
       "      <td>C/C</td>\n",
       "      <td>G/G</td>\n",
       "      <td>T/T</td>\n",
       "      <td>C/C</td>\n",
       "      <td>Warfarin Therapeutic Dose Definition:</td>\n",
       "    </tr>\n",
       "    <tr>\n",
       "      <th>2</th>\n",
       "      <td>PA135312263</td>\n",
       "      <td>PA135312631</td>\n",
       "      <td>1</td>\n",
       "      <td>female</td>\n",
       "      <td>White</td>\n",
       "      <td>White</td>\n",
       "      <td>not Hispanic or Latino</td>\n",
       "      <td>not Hispanic or Latino</td>\n",
       "      <td>40 - 49</td>\n",
       "      <td>162.560</td>\n",
       "      <td>...</td>\n",
       "      <td>NaN</td>\n",
       "      <td>*1/*1</td>\n",
       "      <td>G/G</td>\n",
       "      <td>T/T</td>\n",
       "      <td>NaN</td>\n",
       "      <td>G/G</td>\n",
       "      <td>A/G</td>\n",
       "      <td>NaN</td>\n",
       "      <td>NaN</td>\n",
       "      <td>The dose (unchanged for 6 days) that yielded a...</td>\n",
       "    </tr>\n",
       "    <tr>\n",
       "      <th>3</th>\n",
       "      <td>PA135312264</td>\n",
       "      <td>PA135312632</td>\n",
       "      <td>1</td>\n",
       "      <td>male</td>\n",
       "      <td>White</td>\n",
       "      <td>White</td>\n",
       "      <td>not Hispanic or Latino</td>\n",
       "      <td>not Hispanic or Latino</td>\n",
       "      <td>60 - 69</td>\n",
       "      <td>182.245</td>\n",
       "      <td>...</td>\n",
       "      <td>NaN</td>\n",
       "      <td>*1/*1</td>\n",
       "      <td>A/G</td>\n",
       "      <td>G/T</td>\n",
       "      <td>NaN</td>\n",
       "      <td>C/G</td>\n",
       "      <td>G/G</td>\n",
       "      <td>NaN</td>\n",
       "      <td>NaN</td>\n",
       "      <td>NaN</td>\n",
       "    </tr>\n",
       "    <tr>\n",
       "      <th>4</th>\n",
       "      <td>PA135312265</td>\n",
       "      <td>PA135312633</td>\n",
       "      <td>1</td>\n",
       "      <td>male</td>\n",
       "      <td>White</td>\n",
       "      <td>White</td>\n",
       "      <td>not Hispanic or Latino</td>\n",
       "      <td>not Hispanic or Latino</td>\n",
       "      <td>50 - 59</td>\n",
       "      <td>167.640</td>\n",
       "      <td>...</td>\n",
       "      <td>NaN</td>\n",
       "      <td>*1/*3</td>\n",
       "      <td>A/G</td>\n",
       "      <td>T/T</td>\n",
       "      <td>NaN</td>\n",
       "      <td>C/G</td>\n",
       "      <td>A/G</td>\n",
       "      <td>NaN</td>\n",
       "      <td>NaN</td>\n",
       "      <td>NaN</td>\n",
       "    </tr>\n",
       "  </tbody>\n",
       "</table>\n",
       "<p>5 rows × 68 columns</p>\n",
       "</div>"
      ],
      "text/plain": [
       "  PharmGKB Subject ID PharmGKB Sample ID  Project Site  Gender  \\\n",
       "0         PA135312261        PA135312629             1    male   \n",
       "1         PA135312262        PA135312630             1  female   \n",
       "2         PA135312263        PA135312631             1  female   \n",
       "3         PA135312264        PA135312632             1    male   \n",
       "4         PA135312265        PA135312633             1    male   \n",
       "\n",
       "  Race (Reported) Race (OMB)    Ethnicity (Reported)         Ethnicity (OMB)  \\\n",
       "0           White      White  not Hispanic or Latino  not Hispanic or Latino   \n",
       "1           White      White  not Hispanic or Latino  not Hispanic or Latino   \n",
       "2           White      White  not Hispanic or Latino  not Hispanic or Latino   \n",
       "3           White      White  not Hispanic or Latino  not Hispanic or Latino   \n",
       "4           White      White  not Hispanic or Latino  not Hispanic or Latino   \n",
       "\n",
       "       Age  Height (cm)  ...  \\\n",
       "0  60 - 69      193.040  ...   \n",
       "1  50 - 59      176.530  ...   \n",
       "2  40 - 49      162.560  ...   \n",
       "3  60 - 69      182.245  ...   \n",
       "4  50 - 59      167.640  ...   \n",
       "\n",
       "   VKORC1 QC genotype: -4451 C>A (861); Chr16:31018002; rs17880887; A/C  \\\n",
       "0                                                NaN                      \n",
       "1                                                C/C                      \n",
       "2                                                NaN                      \n",
       "3                                                NaN                      \n",
       "4                                                NaN                      \n",
       "\n",
       "  CYP2C9 consensus VKORC1 -1639 consensus  VKORC1 497 consensus  \\\n",
       "0            *1/*1                    A/G                   G/T   \n",
       "1            *1/*1                    A/A                   G/T   \n",
       "2            *1/*1                    G/G                   T/T   \n",
       "3            *1/*1                    A/G                   G/T   \n",
       "4            *1/*3                    A/G                   T/T   \n",
       "\n",
       "   VKORC1 1173 consensus  VKORC1 1542 consensus VKORC1 3730 consensus  \\\n",
       "0                    NaN                    C/G                   A/G   \n",
       "1                    T/T                    C/C                   G/G   \n",
       "2                    NaN                    G/G                   A/G   \n",
       "3                    NaN                    C/G                   G/G   \n",
       "4                    NaN                    C/G                   A/G   \n",
       "\n",
       "   VKORC1 2255 consensus  VKORC1 -4451 consensus  \\\n",
       "0                    NaN                     NaN   \n",
       "1                    T/T                     C/C   \n",
       "2                    NaN                     NaN   \n",
       "3                    NaN                     NaN   \n",
       "4                    NaN                     NaN   \n",
       "\n",
       "             Comments regarding Project Site Dataset  \n",
       "0                                         Project 1:  \n",
       "1              Warfarin Therapeutic Dose Definition:  \n",
       "2  The dose (unchanged for 6 days) that yielded a...  \n",
       "3                                                NaN  \n",
       "4                                                NaN  \n",
       "\n",
       "[5 rows x 68 columns]"
      ]
     },
     "execution_count": 157,
     "metadata": {},
     "output_type": "execute_result"
    }
   ],
   "source": [
    "# data is in second worksheet\n",
    "df = pd.read_excel('PS206767-553247439.xls', sheet_name='Subject Data')\n",
    "df.head()"
   ]
  },
  {
   "cell_type": "code",
   "execution_count": 158,
   "id": "c0de2a1d",
   "metadata": {},
   "outputs": [
    {
     "data": {
      "text/html": [
       "<div>\n",
       "<style scoped>\n",
       "    .dataframe tbody tr th:only-of-type {\n",
       "        vertical-align: middle;\n",
       "    }\n",
       "\n",
       "    .dataframe tbody tr th {\n",
       "        vertical-align: top;\n",
       "    }\n",
       "\n",
       "    .dataframe thead th {\n",
       "        text-align: right;\n",
       "    }\n",
       "</style>\n",
       "<table border=\"1\" class=\"dataframe\">\n",
       "  <thead>\n",
       "    <tr style=\"text-align: right;\">\n",
       "      <th></th>\n",
       "      <th>Gender</th>\n",
       "      <th>Race (Reported)</th>\n",
       "      <th>Age</th>\n",
       "      <th>Height (cm)</th>\n",
       "      <th>Weight (kg)</th>\n",
       "      <th>Diabetes</th>\n",
       "      <th>Simvastatin (Zocor)</th>\n",
       "      <th>Amiodarone (Cordarone)</th>\n",
       "      <th>Target INR</th>\n",
       "      <th>INR on Reported Therapeutic Dose of Warfarin</th>\n",
       "      <th>Cyp2C9 genotypes</th>\n",
       "      <th>VKORC1 genotype: -1639 G&gt;A (3673); chr16:31015190; rs9923231; C/T</th>\n",
       "      <th>Therapeutic Dose of Warfarin</th>\n",
       "    </tr>\n",
       "  </thead>\n",
       "  <tbody>\n",
       "    <tr>\n",
       "      <th>0</th>\n",
       "      <td>male</td>\n",
       "      <td>White</td>\n",
       "      <td>60 - 69</td>\n",
       "      <td>193.040</td>\n",
       "      <td>115.70</td>\n",
       "      <td>NaN</td>\n",
       "      <td>0.0</td>\n",
       "      <td>0.0</td>\n",
       "      <td>2.5</td>\n",
       "      <td>2.60</td>\n",
       "      <td>*1/*1</td>\n",
       "      <td>A/G</td>\n",
       "      <td>49.00</td>\n",
       "    </tr>\n",
       "    <tr>\n",
       "      <th>1</th>\n",
       "      <td>female</td>\n",
       "      <td>White</td>\n",
       "      <td>50 - 59</td>\n",
       "      <td>176.530</td>\n",
       "      <td>144.20</td>\n",
       "      <td>NaN</td>\n",
       "      <td>0.0</td>\n",
       "      <td>0.0</td>\n",
       "      <td>2.5</td>\n",
       "      <td>2.15</td>\n",
       "      <td>*1/*1</td>\n",
       "      <td>A/A</td>\n",
       "      <td>42.00</td>\n",
       "    </tr>\n",
       "    <tr>\n",
       "      <th>2</th>\n",
       "      <td>female</td>\n",
       "      <td>White</td>\n",
       "      <td>40 - 49</td>\n",
       "      <td>162.560</td>\n",
       "      <td>77.10</td>\n",
       "      <td>NaN</td>\n",
       "      <td>0.0</td>\n",
       "      <td>0.0</td>\n",
       "      <td>2.5</td>\n",
       "      <td>1.90</td>\n",
       "      <td>*1/*1</td>\n",
       "      <td>G/G</td>\n",
       "      <td>53.00</td>\n",
       "    </tr>\n",
       "    <tr>\n",
       "      <th>3</th>\n",
       "      <td>male</td>\n",
       "      <td>White</td>\n",
       "      <td>60 - 69</td>\n",
       "      <td>182.245</td>\n",
       "      <td>90.70</td>\n",
       "      <td>NaN</td>\n",
       "      <td>0.0</td>\n",
       "      <td>0.0</td>\n",
       "      <td>2.5</td>\n",
       "      <td>2.40</td>\n",
       "      <td>*1/*1</td>\n",
       "      <td>A/G</td>\n",
       "      <td>28.00</td>\n",
       "    </tr>\n",
       "    <tr>\n",
       "      <th>4</th>\n",
       "      <td>male</td>\n",
       "      <td>White</td>\n",
       "      <td>50 - 59</td>\n",
       "      <td>167.640</td>\n",
       "      <td>72.60</td>\n",
       "      <td>NaN</td>\n",
       "      <td>0.0</td>\n",
       "      <td>0.0</td>\n",
       "      <td>2.5</td>\n",
       "      <td>1.90</td>\n",
       "      <td>*1/*3</td>\n",
       "      <td>A/G</td>\n",
       "      <td>42.00</td>\n",
       "    </tr>\n",
       "    <tr>\n",
       "      <th>...</th>\n",
       "      <td>...</td>\n",
       "      <td>...</td>\n",
       "      <td>...</td>\n",
       "      <td>...</td>\n",
       "      <td>...</td>\n",
       "      <td>...</td>\n",
       "      <td>...</td>\n",
       "      <td>...</td>\n",
       "      <td>...</td>\n",
       "      <td>...</td>\n",
       "      <td>...</td>\n",
       "      <td>...</td>\n",
       "      <td>...</td>\n",
       "    </tr>\n",
       "    <tr>\n",
       "      <th>5695</th>\n",
       "      <td>male</td>\n",
       "      <td>White</td>\n",
       "      <td>20 - 29</td>\n",
       "      <td>185.420</td>\n",
       "      <td>113.64</td>\n",
       "      <td>0.0</td>\n",
       "      <td>0.0</td>\n",
       "      <td>0.0</td>\n",
       "      <td>NaN</td>\n",
       "      <td>2.80</td>\n",
       "      <td>*1/*1</td>\n",
       "      <td>NaN</td>\n",
       "      <td>52.50</td>\n",
       "    </tr>\n",
       "    <tr>\n",
       "      <th>5696</th>\n",
       "      <td>female</td>\n",
       "      <td>White</td>\n",
       "      <td>70 - 79</td>\n",
       "      <td>160.020</td>\n",
       "      <td>55.91</td>\n",
       "      <td>0.0</td>\n",
       "      <td>0.0</td>\n",
       "      <td>0.0</td>\n",
       "      <td>NaN</td>\n",
       "      <td>2.80</td>\n",
       "      <td>*1/*3</td>\n",
       "      <td>NaN</td>\n",
       "      <td>27.51</td>\n",
       "    </tr>\n",
       "    <tr>\n",
       "      <th>5697</th>\n",
       "      <td>male</td>\n",
       "      <td>White</td>\n",
       "      <td>60 - 69</td>\n",
       "      <td>187.960</td>\n",
       "      <td>97.73</td>\n",
       "      <td>0.0</td>\n",
       "      <td>0.0</td>\n",
       "      <td>0.0</td>\n",
       "      <td>NaN</td>\n",
       "      <td>2.00</td>\n",
       "      <td>*1/*1</td>\n",
       "      <td>NaN</td>\n",
       "      <td>57.47</td>\n",
       "    </tr>\n",
       "    <tr>\n",
       "      <th>5698</th>\n",
       "      <td>male</td>\n",
       "      <td>White</td>\n",
       "      <td>60 - 69</td>\n",
       "      <td>177.800</td>\n",
       "      <td>87.27</td>\n",
       "      <td>0.0</td>\n",
       "      <td>0.0</td>\n",
       "      <td>0.0</td>\n",
       "      <td>NaN</td>\n",
       "      <td>2.00</td>\n",
       "      <td>NaN</td>\n",
       "      <td>NaN</td>\n",
       "      <td>70.00</td>\n",
       "    </tr>\n",
       "    <tr>\n",
       "      <th>5699</th>\n",
       "      <td>male</td>\n",
       "      <td>White</td>\n",
       "      <td>70 - 79</td>\n",
       "      <td>190.500</td>\n",
       "      <td>79.55</td>\n",
       "      <td>0.0</td>\n",
       "      <td>0.0</td>\n",
       "      <td>0.0</td>\n",
       "      <td>NaN</td>\n",
       "      <td>3.00</td>\n",
       "      <td>NaN</td>\n",
       "      <td>NaN</td>\n",
       "      <td>24.01</td>\n",
       "    </tr>\n",
       "  </tbody>\n",
       "</table>\n",
       "<p>5700 rows × 13 columns</p>\n",
       "</div>"
      ],
      "text/plain": [
       "      Gender Race (Reported)      Age  Height (cm)  Weight (kg)  Diabetes  \\\n",
       "0       male           White  60 - 69      193.040       115.70       NaN   \n",
       "1     female           White  50 - 59      176.530       144.20       NaN   \n",
       "2     female           White  40 - 49      162.560        77.10       NaN   \n",
       "3       male           White  60 - 69      182.245        90.70       NaN   \n",
       "4       male           White  50 - 59      167.640        72.60       NaN   \n",
       "...      ...             ...      ...          ...          ...       ...   \n",
       "5695    male           White  20 - 29      185.420       113.64       0.0   \n",
       "5696  female           White  70 - 79      160.020        55.91       0.0   \n",
       "5697    male           White  60 - 69      187.960        97.73       0.0   \n",
       "5698    male           White  60 - 69      177.800        87.27       0.0   \n",
       "5699    male           White  70 - 79      190.500        79.55       0.0   \n",
       "\n",
       "      Simvastatin (Zocor)  Amiodarone (Cordarone)  Target INR  \\\n",
       "0                     0.0                     0.0         2.5   \n",
       "1                     0.0                     0.0         2.5   \n",
       "2                     0.0                     0.0         2.5   \n",
       "3                     0.0                     0.0         2.5   \n",
       "4                     0.0                     0.0         2.5   \n",
       "...                   ...                     ...         ...   \n",
       "5695                  0.0                     0.0         NaN   \n",
       "5696                  0.0                     0.0         NaN   \n",
       "5697                  0.0                     0.0         NaN   \n",
       "5698                  0.0                     0.0         NaN   \n",
       "5699                  0.0                     0.0         NaN   \n",
       "\n",
       "      INR on Reported Therapeutic Dose of Warfarin Cyp2C9 genotypes  \\\n",
       "0                                             2.60            *1/*1   \n",
       "1                                             2.15            *1/*1   \n",
       "2                                             1.90            *1/*1   \n",
       "3                                             2.40            *1/*1   \n",
       "4                                             1.90            *1/*3   \n",
       "...                                            ...              ...   \n",
       "5695                                          2.80            *1/*1   \n",
       "5696                                          2.80            *1/*3   \n",
       "5697                                          2.00            *1/*1   \n",
       "5698                                          2.00              NaN   \n",
       "5699                                          3.00              NaN   \n",
       "\n",
       "     VKORC1 genotype: -1639 G>A (3673); chr16:31015190; rs9923231; C/T  \\\n",
       "0                                                   A/G                  \n",
       "1                                                   A/A                  \n",
       "2                                                   G/G                  \n",
       "3                                                   A/G                  \n",
       "4                                                   A/G                  \n",
       "...                                                 ...                  \n",
       "5695                                                NaN                  \n",
       "5696                                                NaN                  \n",
       "5697                                                NaN                  \n",
       "5698                                                NaN                  \n",
       "5699                                                NaN                  \n",
       "\n",
       "      Therapeutic Dose of Warfarin  \n",
       "0                            49.00  \n",
       "1                            42.00  \n",
       "2                            53.00  \n",
       "3                            28.00  \n",
       "4                            42.00  \n",
       "...                            ...  \n",
       "5695                         52.50  \n",
       "5696                         27.51  \n",
       "5697                         57.47  \n",
       "5698                         70.00  \n",
       "5699                         24.01  \n",
       "\n",
       "[5700 rows x 13 columns]"
      ]
     },
     "execution_count": 158,
     "metadata": {},
     "output_type": "execute_result"
    }
   ],
   "source": [
    "# load the dataset\n",
    "data = df[[\"Gender\",\"Race (Reported)\",\"Age\",\"Height (cm)\",\"Weight (kg)\",\"Diabetes\",\"Simvastatin (Zocor)\",\"Amiodarone (Cordarone)\",\"Target INR\",\"INR on Reported Therapeutic Dose of Warfarin\",\"Cyp2C9 genotypes\",\"VKORC1 genotype: -1639 G>A (3673); chr16:31015190; rs9923231; C/T\",\"Therapeutic Dose of Warfarin\"]]\n",
    "data"
   ]
  },
  {
   "cell_type": "code",
   "execution_count": 159,
   "id": "bf574d03",
   "metadata": {},
   "outputs": [
    {
     "name": "stdout",
     "output_type": "stream",
     "text": [
      "<class 'pandas.core.frame.DataFrame'>\n",
      "RangeIndex: 5700 entries, 0 to 5699\n",
      "Data columns (total 13 columns):\n",
      " #   Column                                                             Non-Null Count  Dtype  \n",
      "---  ------                                                             --------------  -----  \n",
      " 0   Gender                                                             5696 non-null   object \n",
      " 1   Race (Reported)                                                    5194 non-null   object \n",
      " 2   Age                                                                5658 non-null   object \n",
      " 3   Height (cm)                                                        4554 non-null   float64\n",
      " 4   Weight (kg)                                                        5413 non-null   float64\n",
      " 5   Diabetes                                                           3283 non-null   float64\n",
      " 6   Simvastatin (Zocor)                                                3861 non-null   float64\n",
      " 7   Amiodarone (Cordarone)                                             4182 non-null   float64\n",
      " 8   Target INR                                                         1259 non-null   float64\n",
      " 9   INR on Reported Therapeutic Dose of Warfarin                       4968 non-null   float64\n",
      " 10  Cyp2C9 genotypes                                                   5567 non-null   object \n",
      " 11  VKORC1 genotype: -1639 G>A (3673); chr16:31015190; rs9923231; C/T  4046 non-null   object \n",
      " 12  Therapeutic Dose of Warfarin                                       5528 non-null   float64\n",
      "dtypes: float64(8), object(5)\n",
      "memory usage: 579.0+ KB\n"
     ]
    }
   ],
   "source": [
    "# from .info() get data skeleton\n",
    "data.info()"
   ]
  },
  {
   "cell_type": "code",
   "execution_count": 160,
   "id": "6cd45827",
   "metadata": {},
   "outputs": [
    {
     "data": {
      "text/plain": [
       "14891"
      ]
     },
     "execution_count": 160,
     "metadata": {},
     "output_type": "execute_result"
    }
   ],
   "source": [
    "# Count missing data from the dataset\n",
    "data.isna().sum().sum()"
   ]
  },
  {
   "cell_type": "markdown",
   "id": "bc89d7bf",
   "metadata": {},
   "source": [
    "### Data Visualization\n",
    "Import necessary tools to help visualize the data"
   ]
  },
  {
   "cell_type": "code",
   "execution_count": 161,
   "id": "32cd9346",
   "metadata": {},
   "outputs": [],
   "source": [
    "# import visulization libraries\n",
    "import matplotlib.pyplot as plt\n",
    "%matplotlib inline\n",
    "import seaborn as sns\n",
    "import warnings\n",
    "warnings.filterwarnings('ignore')"
   ]
  },
  {
   "cell_type": "markdown",
   "id": "aa6dd0cc",
   "metadata": {},
   "source": [
    "#### This is a descriptive analysis of how data is distributed in each column "
   ]
  },
  {
   "cell_type": "code",
   "execution_count": 162,
   "id": "c8d21abd",
   "metadata": {},
   "outputs": [
    {
     "data": {
      "image/png": "[encoded data removed]",
      "text/plain": [
       "<Figure size 792x432 with 1 Axes>"
      ]
     },
     "metadata": {
      "needs_background": "light"
     },
     "output_type": "display_data"
    },
    {
     "data": {
      "image/png": "[encoded data removed]",
      "text/plain": [
       "<Figure size 792x432 with 1 Axes>"
      ]
     },
     "metadata": {
      "needs_background": "light"
     },
     "output_type": "display_data"
    },
    {
     "data": {
      "image/png": "[encoded data removed]",
      "text/plain": [
       "<Figure size 792x432 with 1 Axes>"
      ]
     },
     "metadata": {
      "needs_background": "light"
     },
     "output_type": "display_data"
    },
    {
     "data": {
      "image/png": "[encoded data removed]",
      "text/plain": [
       "<Figure size 792x432 with 1 Axes>"
      ]
     },
     "metadata": {
      "needs_background": "light"
     },
     "output_type": "display_data"
    },
    {
     "data": {
      "image/png": "[encoded data removed]",
      "text/plain": [
       "<Figure size 792x432 with 1 Axes>"
      ]
     },
     "metadata": {
      "needs_background": "light"
     },
     "output_type": "display_data"
    },
    {
     "data": {
      "image/png": "[encoded data removed]",
      "text/plain": [
       "<Figure size 792x432 with 1 Axes>"
      ]
     },
     "metadata": {
      "needs_background": "light"
     },
     "output_type": "display_data"
    },
    {
     "data": {
      "image/png": "[encoded data removed]",
      "text/plain": [
       "<Figure size 792x432 with 1 Axes>"
      ]
     },
     "metadata": {
      "needs_background": "light"
     },
     "output_type": "display_data"
    },
    {
     "data": {
      "image/png": "[encoded data removed]",
      "text/plain": [
       "<Figure size 792x432 with 1 Axes>"
      ]
     },
     "metadata": {
      "needs_background": "light"
     },
     "output_type": "display_data"
    },
    {
     "data": {
      "image/png": "[encoded data removed]",
      "text/plain": [
       "<Figure size 792x432 with 1 Axes>"
      ]
     },
     "metadata": {
      "needs_background": "light"
     },
     "output_type": "display_data"
    },
    {
     "data": {
      "image/png": "[encoded data removed]",
      "text/plain": [
       "<Figure size 792x432 with 1 Axes>"
      ]
     },
     "metadata": {
      "needs_background": "light"
     },
     "output_type": "display_data"
    },
    {
     "data": {
      "image/png": "[encoded data removed]",
      "text/plain": [
       "<Figure size 792x432 with 1 Axes>"
      ]
     },
     "metadata": {
      "needs_background": "light"
     },
     "output_type": "display_data"
    },
    {
     "data": {
      "image/png": "[encoded data removed]",
      "text/plain": [
       "<Figure size 792x432 with 1 Axes>"
      ]
     },
     "metadata": {
      "needs_background": "light"
     },
     "output_type": "display_data"
    },
    {
     "data": {
      "image/png": "[encoded data removed]",
      "text/plain": [
       "<Figure size 792x432 with 1 Axes>"
      ]
     },
     "metadata": {
      "needs_background": "light"
     },
     "output_type": "display_data"
    }
   ],
   "source": [
    "category = [\"Gender\",\"Race (Reported)\",\"Age\",\"Height (cm)\",\"Weight (kg)\",\"Diabetes\",\"Simvastatin (Zocor)\",\"Amiodarone (Cordarone)\",\"Target INR\",\"INR on Reported Therapeutic Dose of Warfarin\",\"Cyp2C9 genotypes\",\"VKORC1 genotype: -1639 G>A (3673); chr16:31015190; rs9923231; C/T\",\"Therapeutic Dose of Warfarin\"]\n",
    "for cat in category:\n",
    "    plt.figure(figsize=(11,6))\n",
    "    sns.barplot(data[cat].value_counts(),data[cat].value_counts().index,data=data)\n",
    "    plt.title(cat)\n",
    "    plt.tight_layout()"
   ]
  },
  {
   "cell_type": "markdown",
   "id": "4d6e8f8b",
   "metadata": {},
   "source": [
    "#### dataset Correlation represented by confusion matrix"
   ]
  },
  {
   "cell_type": "code",
   "execution_count": 163,
   "id": "df86d821",
   "metadata": {},
   "outputs": [
    {
     "data": {
      "text/plain": [
       "<AxesSubplot:title={'center':'Correlation of Features'}>"
      ]
     },
     "execution_count": 163,
     "metadata": {},
     "output_type": "execute_result"
    },
    {
     "data": {
      "image/png": "[encoded data removed]",
      "text/plain": [
       "<Figure size 1800x1800 with 2 Axes>"
      ]
     },
     "metadata": {
      "needs_background": "light"
     },
     "output_type": "display_data"
    }
   ],
   "source": [
    "# Confusion matrix of the data to see correlation\n",
    "plt.figure(figsize = (25,25))\n",
    "plt.title('Correlation of Features', y=1.05, size=19)\n",
    "sns.heatmap(data.corr(), cmap='plasma',annot=True, fmt='.2f')"
   ]
  },
  {
   "cell_type": "markdown",
   "id": "b90e1cf9",
   "metadata": {},
   "source": [
    "### Data Classification Using KNN and Decision Tree \n",
    "In python Machine learning is done easier using libraries like sklearn which provides the necessary tools to analyse the data and create prediction models.\n",
    "In this task KNN and Decision Tree models were selected for classification and hence will call these models,will also call metrics class function which will help obtain report accuracy, precision, recall, F1-score and ROC curves (AUC-ROC) analysis."
   ]
  },
  {
   "cell_type": "code",
   "execution_count": 164,
   "id": "841ba039",
   "metadata": {},
   "outputs": [],
   "source": [
    "# import pipeline\n",
    "from sklearn.pipeline import Pipeline\n",
    "#import sklearn libraries and models\n",
    "from sklearn.preprocessing import LabelEncoder\n",
    "from sklearn.model_selection import train_test_split\n",
    "from sklearn.neighbors import KNeighborsClassifier\n",
    "from sklearn.tree import DecisionTreeClassifier\n",
    "from sklearn.model_selection import cross_val_score, GridSearchCV\n",
    "from sklearn.metrics import  classification_report, accuracy_score, roc_curve"
   ]
  },
  {
   "cell_type": "markdown",
   "id": "da0bb835",
   "metadata": {},
   "source": [
    "#### Convert categorical datatype from object to numerical using labelencoder"
   ]
  },
  {
   "cell_type": "code",
   "execution_count": 165,
   "id": "d6d4ae5c",
   "metadata": {},
   "outputs": [
    {
     "data": {
      "text/html": [
       "<div>\n",
       "<style scoped>\n",
       "    .dataframe tbody tr th:only-of-type {\n",
       "        vertical-align: middle;\n",
       "    }\n",
       "\n",
       "    .dataframe tbody tr th {\n",
       "        vertical-align: top;\n",
       "    }\n",
       "\n",
       "    .dataframe thead th {\n",
       "        text-align: right;\n",
       "    }\n",
       "</style>\n",
       "<table border=\"1\" class=\"dataframe\">\n",
       "  <thead>\n",
       "    <tr style=\"text-align: right;\">\n",
       "      <th></th>\n",
       "      <th>Gender</th>\n",
       "      <th>Race (Reported)</th>\n",
       "      <th>Age</th>\n",
       "      <th>Height (cm)</th>\n",
       "      <th>Weight (kg)</th>\n",
       "      <th>Diabetes</th>\n",
       "      <th>Simvastatin (Zocor)</th>\n",
       "      <th>Amiodarone (Cordarone)</th>\n",
       "      <th>Target INR</th>\n",
       "      <th>INR on Reported Therapeutic Dose of Warfarin</th>\n",
       "      <th>Cyp2C9 genotypes</th>\n",
       "      <th>VKORC1 genotype: -1639 G&gt;A (3673); chr16:31015190; rs9923231; C/T</th>\n",
       "      <th>Therapeutic Dose of Warfarin</th>\n",
       "    </tr>\n",
       "  </thead>\n",
       "  <tbody>\n",
       "    <tr>\n",
       "      <th>0</th>\n",
       "      <td>1</td>\n",
       "      <td>20</td>\n",
       "      <td>5</td>\n",
       "      <td>193.040</td>\n",
       "      <td>115.70</td>\n",
       "      <td>NaN</td>\n",
       "      <td>0.0</td>\n",
       "      <td>0.0</td>\n",
       "      <td>2.5</td>\n",
       "      <td>2.60</td>\n",
       "      <td>0</td>\n",
       "      <td>1</td>\n",
       "      <td>49.00</td>\n",
       "    </tr>\n",
       "    <tr>\n",
       "      <th>1</th>\n",
       "      <td>0</td>\n",
       "      <td>20</td>\n",
       "      <td>4</td>\n",
       "      <td>176.530</td>\n",
       "      <td>144.20</td>\n",
       "      <td>NaN</td>\n",
       "      <td>0.0</td>\n",
       "      <td>0.0</td>\n",
       "      <td>2.5</td>\n",
       "      <td>2.15</td>\n",
       "      <td>0</td>\n",
       "      <td>0</td>\n",
       "      <td>42.00</td>\n",
       "    </tr>\n",
       "    <tr>\n",
       "      <th>2</th>\n",
       "      <td>0</td>\n",
       "      <td>20</td>\n",
       "      <td>3</td>\n",
       "      <td>162.560</td>\n",
       "      <td>77.10</td>\n",
       "      <td>NaN</td>\n",
       "      <td>0.0</td>\n",
       "      <td>0.0</td>\n",
       "      <td>2.5</td>\n",
       "      <td>1.90</td>\n",
       "      <td>0</td>\n",
       "      <td>2</td>\n",
       "      <td>53.00</td>\n",
       "    </tr>\n",
       "    <tr>\n",
       "      <th>3</th>\n",
       "      <td>1</td>\n",
       "      <td>20</td>\n",
       "      <td>5</td>\n",
       "      <td>182.245</td>\n",
       "      <td>90.70</td>\n",
       "      <td>NaN</td>\n",
       "      <td>0.0</td>\n",
       "      <td>0.0</td>\n",
       "      <td>2.5</td>\n",
       "      <td>2.40</td>\n",
       "      <td>0</td>\n",
       "      <td>1</td>\n",
       "      <td>28.00</td>\n",
       "    </tr>\n",
       "    <tr>\n",
       "      <th>4</th>\n",
       "      <td>1</td>\n",
       "      <td>20</td>\n",
       "      <td>4</td>\n",
       "      <td>167.640</td>\n",
       "      <td>72.60</td>\n",
       "      <td>NaN</td>\n",
       "      <td>0.0</td>\n",
       "      <td>0.0</td>\n",
       "      <td>2.5</td>\n",
       "      <td>1.90</td>\n",
       "      <td>5</td>\n",
       "      <td>1</td>\n",
       "      <td>42.00</td>\n",
       "    </tr>\n",
       "    <tr>\n",
       "      <th>...</th>\n",
       "      <td>...</td>\n",
       "      <td>...</td>\n",
       "      <td>...</td>\n",
       "      <td>...</td>\n",
       "      <td>...</td>\n",
       "      <td>...</td>\n",
       "      <td>...</td>\n",
       "      <td>...</td>\n",
       "      <td>...</td>\n",
       "      <td>...</td>\n",
       "      <td>...</td>\n",
       "      <td>...</td>\n",
       "      <td>...</td>\n",
       "    </tr>\n",
       "    <tr>\n",
       "      <th>5695</th>\n",
       "      <td>1</td>\n",
       "      <td>20</td>\n",
       "      <td>1</td>\n",
       "      <td>185.420</td>\n",
       "      <td>113.64</td>\n",
       "      <td>0.0</td>\n",
       "      <td>0.0</td>\n",
       "      <td>0.0</td>\n",
       "      <td>NaN</td>\n",
       "      <td>2.80</td>\n",
       "      <td>0</td>\n",
       "      <td>3</td>\n",
       "      <td>52.50</td>\n",
       "    </tr>\n",
       "    <tr>\n",
       "      <th>5696</th>\n",
       "      <td>0</td>\n",
       "      <td>20</td>\n",
       "      <td>6</td>\n",
       "      <td>160.020</td>\n",
       "      <td>55.91</td>\n",
       "      <td>0.0</td>\n",
       "      <td>0.0</td>\n",
       "      <td>0.0</td>\n",
       "      <td>NaN</td>\n",
       "      <td>2.80</td>\n",
       "      <td>5</td>\n",
       "      <td>3</td>\n",
       "      <td>27.51</td>\n",
       "    </tr>\n",
       "    <tr>\n",
       "      <th>5697</th>\n",
       "      <td>1</td>\n",
       "      <td>20</td>\n",
       "      <td>5</td>\n",
       "      <td>187.960</td>\n",
       "      <td>97.73</td>\n",
       "      <td>0.0</td>\n",
       "      <td>0.0</td>\n",
       "      <td>0.0</td>\n",
       "      <td>NaN</td>\n",
       "      <td>2.00</td>\n",
       "      <td>0</td>\n",
       "      <td>3</td>\n",
       "      <td>57.47</td>\n",
       "    </tr>\n",
       "    <tr>\n",
       "      <th>5698</th>\n",
       "      <td>1</td>\n",
       "      <td>20</td>\n",
       "      <td>5</td>\n",
       "      <td>177.800</td>\n",
       "      <td>87.27</td>\n",
       "      <td>0.0</td>\n",
       "      <td>0.0</td>\n",
       "      <td>0.0</td>\n",
       "      <td>NaN</td>\n",
       "      <td>2.00</td>\n",
       "      <td>11</td>\n",
       "      <td>3</td>\n",
       "      <td>70.00</td>\n",
       "    </tr>\n",
       "    <tr>\n",
       "      <th>5699</th>\n",
       "      <td>1</td>\n",
       "      <td>20</td>\n",
       "      <td>6</td>\n",
       "      <td>190.500</td>\n",
       "      <td>79.55</td>\n",
       "      <td>0.0</td>\n",
       "      <td>0.0</td>\n",
       "      <td>0.0</td>\n",
       "      <td>NaN</td>\n",
       "      <td>3.00</td>\n",
       "      <td>11</td>\n",
       "      <td>3</td>\n",
       "      <td>24.01</td>\n",
       "    </tr>\n",
       "  </tbody>\n",
       "</table>\n",
       "<p>5700 rows × 13 columns</p>\n",
       "</div>"
      ],
      "text/plain": [
       "      Gender  Race (Reported)  Age  Height (cm)  Weight (kg)  Diabetes  \\\n",
       "0          1               20    5      193.040       115.70       NaN   \n",
       "1          0               20    4      176.530       144.20       NaN   \n",
       "2          0               20    3      162.560        77.10       NaN   \n",
       "3          1               20    5      182.245        90.70       NaN   \n",
       "4          1               20    4      167.640        72.60       NaN   \n",
       "...      ...              ...  ...          ...          ...       ...   \n",
       "5695       1               20    1      185.420       113.64       0.0   \n",
       "5696       0               20    6      160.020        55.91       0.0   \n",
       "5697       1               20    5      187.960        97.73       0.0   \n",
       "5698       1               20    5      177.800        87.27       0.0   \n",
       "5699       1               20    6      190.500        79.55       0.0   \n",
       "\n",
       "      Simvastatin (Zocor)  Amiodarone (Cordarone)  Target INR  \\\n",
       "0                     0.0                     0.0         2.5   \n",
       "1                     0.0                     0.0         2.5   \n",
       "2                     0.0                     0.0         2.5   \n",
       "3                     0.0                     0.0         2.5   \n",
       "4                     0.0                     0.0         2.5   \n",
       "...                   ...                     ...         ...   \n",
       "5695                  0.0                     0.0         NaN   \n",
       "5696                  0.0                     0.0         NaN   \n",
       "5697                  0.0                     0.0         NaN   \n",
       "5698                  0.0                     0.0         NaN   \n",
       "5699                  0.0                     0.0         NaN   \n",
       "\n",
       "      INR on Reported Therapeutic Dose of Warfarin  Cyp2C9 genotypes  \\\n",
       "0                                             2.60                 0   \n",
       "1                                             2.15                 0   \n",
       "2                                             1.90                 0   \n",
       "3                                             2.40                 0   \n",
       "4                                             1.90                 5   \n",
       "...                                            ...               ...   \n",
       "5695                                          2.80                 0   \n",
       "5696                                          2.80                 5   \n",
       "5697                                          2.00                 0   \n",
       "5698                                          2.00                11   \n",
       "5699                                          3.00                11   \n",
       "\n",
       "      VKORC1 genotype: -1639 G>A (3673); chr16:31015190; rs9923231; C/T  \\\n",
       "0                                                     1                   \n",
       "1                                                     0                   \n",
       "2                                                     2                   \n",
       "3                                                     1                   \n",
       "4                                                     1                   \n",
       "...                                                 ...                   \n",
       "5695                                                  3                   \n",
       "5696                                                  3                   \n",
       "5697                                                  3                   \n",
       "5698                                                  3                   \n",
       "5699                                                  3                   \n",
       "\n",
       "      Therapeutic Dose of Warfarin  \n",
       "0                            49.00  \n",
       "1                            42.00  \n",
       "2                            53.00  \n",
       "3                            28.00  \n",
       "4                            42.00  \n",
       "...                            ...  \n",
       "5695                         52.50  \n",
       "5696                         27.51  \n",
       "5697                         57.47  \n",
       "5698                         70.00  \n",
       "5699                         24.01  \n",
       "\n",
       "[5700 rows x 13 columns]"
      ]
     },
     "execution_count": 165,
     "metadata": {},
     "output_type": "execute_result"
    }
   ],
   "source": [
    "# Using label encoder that converts all Dtypes into an uniform format\n",
    "lb_make = LabelEncoder()\n",
    "    \n",
    "Objt = [col for col in data.columns if data[col].dtype==\"O\"]\n",
    "for item in Objt:\n",
    "    data[item] = lb_make.fit_transform(data[item])\n",
    "data.reset_index()\n",
    "data.reset_index(drop=True)\n",
    "data"
   ]
  },
  {
   "cell_type": "code",
   "execution_count": 166,
   "id": "b4861a02",
   "metadata": {},
   "outputs": [],
   "source": [
    "# replace all the nah with a zero\n",
    "data = data.fillna(value=0)"
   ]
  },
  {
   "cell_type": "code",
   "execution_count": 167,
   "id": "776bb1df",
   "metadata": {},
   "outputs": [],
   "source": [
    "#The data is now ready after filling all NaN values with 0\n",
    "# first class is those with >30 mg/wk (high required dose (HRD)) and\n",
    "# the second class contains the patients who need doses of ≤30 mg/wk (low required dose (LRD)).\n",
    "# we create these classes in the Therapeutic Dose of Warfarin column\n",
    "y = data['Therapeutic Dose of Warfarin']\n",
    "for i in range(len(y)):\n",
    "    if y[i] <= 30.0:\n",
    "        y[i] = 0\n",
    "    if y[i] > 30:\n",
    "        y[i] = 1"
   ]
  },
  {
   "cell_type": "markdown",
   "id": "08d0a104",
   "metadata": {},
   "source": [
    "#### Split the data "
   ]
  },
  {
   "cell_type": "code",
   "execution_count": 168,
   "id": "52f010b0",
   "metadata": {},
   "outputs": [],
   "source": [
    "# define features and label\n",
    "X = data.drop([\"Therapeutic Dose of Warfarin\"], axis='columns')\n",
    "y = data['Therapeutic Dose of Warfarin']"
   ]
  },
  {
   "cell_type": "code",
   "execution_count": 169,
   "id": "840db0a7",
   "metadata": {},
   "outputs": [],
   "source": [
    "# split training and testing data with 30% for testing\n",
    "X_train, X_test, y_train, y_test = train_test_split(X, y, test_size = 0.3,random_state=0)"
   ]
  },
  {
   "cell_type": "markdown",
   "id": "da5c6f99",
   "metadata": {},
   "source": [
    "### KNN Classifier with GridSearchCv tuning"
   ]
  },
  {
   "cell_type": "code",
   "execution_count": 170,
   "id": "5c0d89b0",
   "metadata": {},
   "outputs": [
    {
     "name": "stdout",
     "output_type": "stream",
     "text": [
      "{'n_neighbors': 29}\n"
     ]
    }
   ],
   "source": [
    "knn = KNeighborsClassifier()\n",
    "k_range = list(range(1, 30))\n",
    "paramz = dict(n_neighbors=k_range)\n",
    "# defining parameter range\n",
    "gsvk = GridSearchCV(knn, paramz, cv=10, scoring='accuracy')\n",
    "# fitting the model for grid search\n",
    "gsvk.fit(X_train, y_train)\n",
    "\n",
    "best_parameters = gsvk.best_params_\n",
    "print(best_parameters)"
   ]
  },
  {
   "cell_type": "code",
   "execution_count": 181,
   "id": "3373b5e5",
   "metadata": {},
   "outputs": [
    {
     "name": "stdout",
     "output_type": "stream",
     "text": [
      "Accuracy Score: 0.704093567251462\n"
     ]
    }
   ],
   "source": [
    "# best parameters were found to be 29 neighbors\n",
    "knn = KNeighborsClassifier(n_neighbors = 29)\n",
    "knn.fit(X_train, y_train)\n",
    "y_predk=knn.predict(X_test)\n",
    "print(\"Accuracy Score:\",accuracy_score(y_test, y_predk))"
   ]
  },
  {
   "cell_type": "code",
   "execution_count": 182,
   "id": "f8b4c488",
   "metadata": {},
   "outputs": [
    {
     "name": "stdout",
     "output_type": "stream",
     "text": [
      "Classification Report for KNN Classifier\n",
      "              precision    recall  f1-score   support\n",
      "\n",
      "         0.0       0.74      0.75      0.75       991\n",
      "         1.0       0.65      0.63      0.64       719\n",
      "\n",
      "    accuracy                           0.70      1710\n",
      "   macro avg       0.70      0.69      0.70      1710\n",
      "weighted avg       0.70      0.70      0.70      1710\n",
      "\n"
     ]
    }
   ],
   "source": [
    "print(\"Classification Report for KNN Classifier\")\n",
    "print(classification_report(y_test, y_predk))"
   ]
  },
  {
   "cell_type": "code",
   "execution_count": 183,
   "id": "c65b8044",
   "metadata": {},
   "outputs": [
    {
     "name": "stdout",
     "output_type": "stream",
     "text": [
      "ROC curves for KNN Classifier\n",
      "(array([0.        , 0.24520686, 1.        ]), array([0.        , 0.63421419, 1.        ]), array([2., 1., 0.]))\n"
     ]
    }
   ],
   "source": [
    "print(\"ROC curves for KNN Classifier\")\n",
    "print(roc_curve(y_test, y_predk))"
   ]
  },
  {
   "cell_type": "markdown",
   "id": "e91b2b48",
   "metadata": {},
   "source": [
    "### Decision Tree with GridSearchCv tuning"
   ]
  },
  {
   "cell_type": "code",
   "execution_count": 184,
   "id": "429d9497",
   "metadata": {},
   "outputs": [],
   "source": [
    "params = {\n",
    "    'criterion': ['gini', 'entropy']\n",
    "}"
   ]
  },
  {
   "cell_type": "code",
   "execution_count": 185,
   "id": "78b18a90",
   "metadata": {},
   "outputs": [],
   "source": [
    "# Create the gridSearch Model\n",
    "gsvr = GridSearchCV(estimator=DecisionTreeClassifier(),\n",
    "                     param_grid=params,\n",
    "                     scoring='accuracy',\n",
    "                     cv=10)"
   ]
  },
  {
   "cell_type": "code",
   "execution_count": 186,
   "id": "2c4a3037",
   "metadata": {},
   "outputs": [
    {
     "data": {
      "text/html": [
       "<style>#sk-container-id-2 {color: black;background-color: white;}#sk-container-id-2 pre{padding: 0;}#sk-container-id-2 div.sk-toggleable {background-color: white;}#sk-container-id-2 label.sk-toggleable__label {cursor: pointer;display: block;width: 100%;margin-bottom: 0;padding: 0.3em;box-sizing: border-box;text-align: center;}#sk-container-id-2 label.sk-toggleable__label-arrow:before {content: \"▸\";float: left;margin-right: 0.25em;color: #696969;}#sk-container-id-2 label.sk-toggleable__label-arrow:hover:before {color: black;}#sk-container-id-2 div.sk-estimator:hover label.sk-toggleable__label-arrow:before {color: black;}#sk-container-id-2 div.sk-toggleable__content {max-height: 0;max-width: 0;overflow: hidden;text-align: left;background-color: #f0f8ff;}#sk-container-id-2 div.sk-toggleable__content pre {margin: 0.2em;color: black;border-radius: 0.25em;background-color: #f0f8ff;}#sk-container-id-2 input.sk-toggleable__control:checked~div.sk-toggleable__content {max-height: 200px;max-width: 100%;overflow: auto;}#sk-container-id-2 input.sk-toggleable__control:checked~label.sk-toggleable__label-arrow:before {content: \"▾\";}#sk-container-id-2 div.sk-estimator input.sk-toggleable__control:checked~label.sk-toggleable__label {background-color: #d4ebff;}#sk-container-id-2 div.sk-label input.sk-toggleable__control:checked~label.sk-toggleable__label {background-color: #d4ebff;}#sk-container-id-2 input.sk-hidden--visually {border: 0;clip: rect(1px 1px 1px 1px);clip: rect(1px, 1px, 1px, 1px);height: 1px;margin: -1px;overflow: hidden;padding: 0;position: absolute;width: 1px;}#sk-container-id-2 div.sk-estimator {font-family: monospace;background-color: #f0f8ff;border: 1px dotted black;border-radius: 0.25em;box-sizing: border-box;margin-bottom: 0.5em;}#sk-container-id-2 div.sk-estimator:hover {background-color: #d4ebff;}#sk-container-id-2 div.sk-parallel-item::after {content: \"\";width: 100%;border-bottom: 1px solid gray;flex-grow: 1;}#sk-container-id-2 div.sk-label:hover label.sk-toggleable__label {background-color: #d4ebff;}#sk-container-id-2 div.sk-serial::before {content: \"\";position: absolute;border-left: 1px solid gray;box-sizing: border-box;top: 0;bottom: 0;left: 50%;z-index: 0;}#sk-container-id-2 div.sk-serial {display: flex;flex-direction: column;align-items: center;background-color: white;padding-right: 0.2em;padding-left: 0.2em;position: relative;}#sk-container-id-2 div.sk-item {position: relative;z-index: 1;}#sk-container-id-2 div.sk-parallel {display: flex;align-items: stretch;justify-content: center;background-color: white;position: relative;}#sk-container-id-2 div.sk-item::before, #sk-container-id-2 div.sk-parallel-item::before {content: \"\";position: absolute;border-left: 1px solid gray;box-sizing: border-box;top: 0;bottom: 0;left: 50%;z-index: -1;}#sk-container-id-2 div.sk-parallel-item {display: flex;flex-direction: column;z-index: 1;position: relative;background-color: white;}#sk-container-id-2 div.sk-parallel-item:first-child::after {align-self: flex-end;width: 50%;}#sk-container-id-2 div.sk-parallel-item:last-child::after {align-self: flex-start;width: 50%;}#sk-container-id-2 div.sk-parallel-item:only-child::after {width: 0;}#sk-container-id-2 div.sk-dashed-wrapped {border: 1px dashed gray;margin: 0 0.4em 0.5em 0.4em;box-sizing: border-box;padding-bottom: 0.4em;background-color: white;}#sk-container-id-2 div.sk-label label {font-family: monospace;font-weight: bold;display: inline-block;line-height: 1.2em;}#sk-container-id-2 div.sk-label-container {text-align: center;}#sk-container-id-2 div.sk-container {/* jupyter's `normalize.less` sets `[hidden] { display: none; }` but bootstrap.min.css set `[hidden] { display: none !important; }` so we also need the `!important` here to be able to override the default hidden behavior on the sphinx rendered scikit-learn.org. See: https://github.com/scikit-learn/scikit-learn/issues/21755 */display: inline-block !important;position: relative;}#sk-container-id-2 div.sk-text-repr-fallback {display: none;}</style><div id=\"sk-container-id-2\" class=\"sk-top-container\"><div class=\"sk-text-repr-fallback\"><pre>GridSearchCV(cv=10, estimator=DecisionTreeClassifier(),\n",
       "             param_grid={&#x27;criterion&#x27;: [&#x27;gini&#x27;, &#x27;entropy&#x27;]}, scoring=&#x27;accuracy&#x27;)</pre><b>In a Jupyter environment, please rerun this cell to show the HTML representation or trust the notebook. <br />On GitHub, the HTML representation is unable to render, please try loading this page with nbviewer.org.</b></div><div class=\"sk-container\" hidden><div class=\"sk-item sk-dashed-wrapped\"><div class=\"sk-label-container\"><div class=\"sk-label sk-toggleable\"><input class=\"sk-toggleable__control sk-hidden--visually\" id=\"sk-estimator-id-4\" type=\"checkbox\" ><label for=\"sk-estimator-id-4\" class=\"sk-toggleable__label sk-toggleable__label-arrow\">GridSearchCV</label><div class=\"sk-toggleable__content\"><pre>GridSearchCV(cv=10, estimator=DecisionTreeClassifier(),\n",
       "             param_grid={&#x27;criterion&#x27;: [&#x27;gini&#x27;, &#x27;entropy&#x27;]}, scoring=&#x27;accuracy&#x27;)</pre></div></div></div><div class=\"sk-parallel\"><div class=\"sk-parallel-item\"><div class=\"sk-item\"><div class=\"sk-label-container\"><div class=\"sk-label sk-toggleable\"><input class=\"sk-toggleable__control sk-hidden--visually\" id=\"sk-estimator-id-5\" type=\"checkbox\" ><label for=\"sk-estimator-id-5\" class=\"sk-toggleable__label sk-toggleable__label-arrow\">estimator: DecisionTreeClassifier</label><div class=\"sk-toggleable__content\"><pre>DecisionTreeClassifier()</pre></div></div></div><div class=\"sk-serial\"><div class=\"sk-item\"><div class=\"sk-estimator sk-toggleable\"><input class=\"sk-toggleable__control sk-hidden--visually\" id=\"sk-estimator-id-6\" type=\"checkbox\" ><label for=\"sk-estimator-id-6\" class=\"sk-toggleable__label sk-toggleable__label-arrow\">DecisionTreeClassifier</label><div class=\"sk-toggleable__content\"><pre>DecisionTreeClassifier()</pre></div></div></div></div></div></div></div></div></div></div>"
      ],
      "text/plain": [
       "GridSearchCV(cv=10, estimator=DecisionTreeClassifier(),\n",
       "             param_grid={'criterion': ['gini', 'entropy']}, scoring='accuracy')"
      ]
     },
     "execution_count": 186,
     "metadata": {},
     "output_type": "execute_result"
    }
   ],
   "source": [
    "# train the model\n",
    "gsvr.fit(X_train,y_train)"
   ]
  },
  {
   "cell_type": "code",
   "execution_count": 187,
   "id": "7df65b17",
   "metadata": {},
   "outputs": [
    {
     "name": "stdout",
     "output_type": "stream",
     "text": [
      "{'criterion': 'entropy'}\n"
     ]
    }
   ],
   "source": [
    "best_parameters = gsvr.best_params_\n",
    "print(best_parameters)"
   ]
  },
  {
   "cell_type": "code",
   "execution_count": 188,
   "id": "a41730d3",
   "metadata": {},
   "outputs": [
    {
     "name": "stdout",
     "output_type": "stream",
     "text": [
      "Accuracy Score: 0.6707602339181287\n"
     ]
    }
   ],
   "source": [
    "# best parameters were found to be entropy\n",
    "tree = DecisionTreeClassifier(criterion= 'entropy')\n",
    "tree.fit(X_train, y_train)\n",
    "y_predT=tree.predict(X_test)\n",
    "print(\"Accuracy Score:\",accuracy_score(y_test, y_predT))"
   ]
  },
  {
   "cell_type": "code",
   "execution_count": 189,
   "id": "498edd7f",
   "metadata": {},
   "outputs": [
    {
     "name": "stdout",
     "output_type": "stream",
     "text": [
      "Classification Report for DecisionTreeClassifier\n",
      "              precision    recall  f1-score   support\n",
      "\n",
      "         0.0       0.72      0.71      0.71       991\n",
      "         1.0       0.61      0.62      0.61       719\n",
      "\n",
      "    accuracy                           0.67      1710\n",
      "   macro avg       0.66      0.66      0.66      1710\n",
      "weighted avg       0.67      0.67      0.67      1710\n",
      "\n"
     ]
    }
   ],
   "source": [
    "print(\"Classification Report for DecisionTreeClassifier\")\n",
    "print(classification_report(y_test, y_predT))"
   ]
  },
  {
   "cell_type": "code",
   "execution_count": 190,
   "id": "7a94bf4a",
   "metadata": {},
   "outputs": [
    {
     "name": "stdout",
     "output_type": "stream",
     "text": [
      "ROC curves for DecisionTreeClassifier\n",
      "(array([0.        , 0.29061554, 1.        ]), array([0.        , 0.61752434, 1.        ]), array([2., 1., 0.]))\n"
     ]
    }
   ],
   "source": [
    "print(\"ROC curves for DecisionTreeClassifier\")\n",
    "print(roc_curve(y_test, y_predT))"
   ]
  },
  {
   "cell_type": "markdown",
   "id": "40d597d6",
   "metadata": {},
   "source": [
    "### Analysis Done Using Artificial Neural Network\n",
    "At this point will build a neural network to help us analyse the data and train a model to predict dosage.\n",
    "tensorflow is a library used in creation of neural networks in python and in this task we will import the necessary modules.\n",
    "using sequential(), will create an input layer with 12 nodes like our columns after will have two hidden layers of 12 and 8 nodes respectively and will use relu activation function. The last layer is the output layer of a single node and use sigmoid activation function. "
   ]
  },
  {
   "cell_type": "code",
   "execution_count": 191,
   "id": "4c244c22",
   "metadata": {},
   "outputs": [],
   "source": [
    "# import the necessary libraries\n",
    "import numpy as np\n",
    "import tensorflow as tf"
   ]
  },
  {
   "cell_type": "code",
   "execution_count": 192,
   "id": "b25ab3b4",
   "metadata": {},
   "outputs": [],
   "source": [
    "# need to standardize the dataset\n",
    "from sklearn.preprocessing import StandardScaler"
   ]
  },
  {
   "cell_type": "code",
   "execution_count": 193,
   "id": "72587ba3",
   "metadata": {},
   "outputs": [],
   "source": [
    "sc = StandardScaler()\n",
    "X_train = sc.fit_transform(X_train)\n",
    "X_test = sc.fit_transform(X_test)"
   ]
  },
  {
   "cell_type": "markdown",
   "id": "00e1faf9",
   "metadata": {},
   "source": [
    "#### Build the ANN"
   ]
  },
  {
   "cell_type": "code",
   "execution_count": 194,
   "id": "1d414798",
   "metadata": {},
   "outputs": [],
   "source": [
    "# initilize the ANN\n",
    "Ann = tf.keras.models.Sequential()\n",
    "\n",
    "# Add input and first hidden layer\n",
    "Ann.add(tf.keras.layers.Dense(units=12, activation='relu', input_shape=X_train[0].shape))\n",
    "\n",
    "# Add the second hidden layer\n",
    "Ann.add(tf.keras.layers.Dense(units=8,activation='relu'))\n",
    "\n",
    "# Add output layer\n",
    "Ann.add(tf.keras.layers.Dense(units=1, activation='sigmoid'))\n"
   ]
  },
  {
   "cell_type": "code",
   "execution_count": 195,
   "id": "dd185d8c",
   "metadata": {},
   "outputs": [],
   "source": [
    "# # remember to ** pip install pydot\n",
    "# # This section is for visualizing the model\n",
    "#from tensorflow.keras.utils import plot_model\n",
    "#plot_model(Ann, to_file='Ann_model.png', show_shapes=True, show_layer_names=True)"
   ]
  },
  {
   "cell_type": "markdown",
   "id": "1d33105e",
   "metadata": {},
   "source": [
    "#### Train the model\n",
    "The model is compiled using Adam optimizer (another maybe selected) and binary cross-entropy loss and it is trained using 100 epochs "
   ]
  },
  {
   "cell_type": "code",
   "execution_count": 196,
   "id": "b53aa560",
   "metadata": {},
   "outputs": [
    {
     "name": "stdout",
     "output_type": "stream",
     "text": [
      "Epoch 1/100\n",
      "125/125 [==============================] - 14s 3ms/step - loss: 0.6396\n",
      "Epoch 2/100\n",
      "125/125 [==============================] - 0s 2ms/step - loss: 0.5895\n",
      "Epoch 3/100\n",
      "125/125 [==============================] - 0s 2ms/step - loss: 0.5639\n",
      "Epoch 4/100\n",
      "125/125 [==============================] - 0s 2ms/step - loss: 0.5479\n",
      "Epoch 5/100\n",
      "125/125 [==============================] - 0s 2ms/step - loss: 0.5374\n",
      "Epoch 6/100\n",
      "125/125 [==============================] - 0s 2ms/step - loss: 0.5300\n",
      "Epoch 7/100\n",
      "125/125 [==============================] - 0s 2ms/step - loss: 0.5243\n",
      "Epoch 8/100\n",
      "125/125 [==============================] - 0s 2ms/step - loss: 0.5202\n",
      "Epoch 9/100\n",
      "125/125 [==============================] - 0s 2ms/step - loss: 0.5167\n",
      "Epoch 10/100\n",
      "125/125 [==============================] - 0s 2ms/step - loss: 0.5138\n",
      "Epoch 11/100\n",
      "125/125 [==============================] - 0s 2ms/step - loss: 0.5116\n",
      "Epoch 12/100\n",
      "125/125 [==============================] - 0s 2ms/step - loss: 0.5095\n",
      "Epoch 13/100\n",
      "125/125 [==============================] - 0s 2ms/step - loss: 0.5073\n",
      "Epoch 14/100\n",
      "125/125 [==============================] - 0s 2ms/step - loss: 0.5056\n",
      "Epoch 15/100\n",
      "125/125 [==============================] - 0s 2ms/step - loss: 0.5043\n",
      "Epoch 16/100\n",
      "125/125 [==============================] - 0s 2ms/step - loss: 0.5035\n",
      "Epoch 17/100\n",
      "125/125 [==============================] - 0s 2ms/step - loss: 0.5023\n",
      "Epoch 18/100\n",
      "125/125 [==============================] - 0s 2ms/step - loss: 0.5013\n",
      "Epoch 19/100\n",
      "125/125 [==============================] - 0s 2ms/step - loss: 0.5004\n",
      "Epoch 20/100\n",
      "125/125 [==============================] - 0s 2ms/step - loss: 0.4994\n",
      "Epoch 21/100\n",
      "125/125 [==============================] - 0s 2ms/step - loss: 0.4986\n",
      "Epoch 22/100\n",
      "125/125 [==============================] - 0s 2ms/step - loss: 0.4982\n",
      "Epoch 23/100\n",
      "125/125 [==============================] - 0s 2ms/step - loss: 0.4973\n",
      "Epoch 24/100\n",
      "125/125 [==============================] - 0s 2ms/step - loss: 0.4972\n",
      "Epoch 25/100\n",
      "125/125 [==============================] - 0s 2ms/step - loss: 0.4962\n",
      "Epoch 26/100\n",
      "125/125 [==============================] - 0s 2ms/step - loss: 0.4954\n",
      "Epoch 27/100\n",
      "125/125 [==============================] - 0s 2ms/step - loss: 0.4948\n",
      "Epoch 28/100\n",
      "125/125 [==============================] - 0s 2ms/step - loss: 0.4947\n",
      "Epoch 29/100\n",
      "125/125 [==============================] - 0s 2ms/step - loss: 0.4938\n",
      "Epoch 30/100\n",
      "125/125 [==============================] - 0s 2ms/step - loss: 0.4936\n",
      "Epoch 31/100\n",
      "125/125 [==============================] - 0s 2ms/step - loss: 0.4931\n",
      "Epoch 32/100\n",
      "125/125 [==============================] - 0s 2ms/step - loss: 0.4932\n",
      "Epoch 33/100\n",
      "125/125 [==============================] - 0s 2ms/step - loss: 0.4924\n",
      "Epoch 34/100\n",
      "125/125 [==============================] - 0s 2ms/step - loss: 0.4917\n",
      "Epoch 35/100\n",
      "125/125 [==============================] - 0s 2ms/step - loss: 0.4914\n",
      "Epoch 36/100\n",
      "125/125 [==============================] - 0s 2ms/step - loss: 0.4912\n",
      "Epoch 37/100\n",
      "125/125 [==============================] - 0s 3ms/step - loss: 0.4905\n",
      "Epoch 38/100\n",
      "125/125 [==============================] - 0s 2ms/step - loss: 0.4903\n",
      "Epoch 39/100\n",
      "125/125 [==============================] - 0s 2ms/step - loss: 0.4900\n",
      "Epoch 40/100\n",
      "125/125 [==============================] - 0s 2ms/step - loss: 0.4899\n",
      "Epoch 41/100\n",
      "125/125 [==============================] - 0s 2ms/step - loss: 0.4896\n",
      "Epoch 42/100\n",
      "125/125 [==============================] - 0s 2ms/step - loss: 0.4889\n",
      "Epoch 43/100\n",
      "125/125 [==============================] - 0s 2ms/step - loss: 0.4887\n",
      "Epoch 44/100\n",
      "125/125 [==============================] - 0s 2ms/step - loss: 0.4882\n",
      "Epoch 45/100\n",
      "125/125 [==============================] - 0s 2ms/step - loss: 0.4880\n",
      "Epoch 46/100\n",
      "125/125 [==============================] - 0s 2ms/step - loss: 0.4880\n",
      "Epoch 47/100\n",
      "125/125 [==============================] - 0s 2ms/step - loss: 0.4872\n",
      "Epoch 48/100\n",
      "125/125 [==============================] - 0s 2ms/step - loss: 0.4873\n",
      "Epoch 49/100\n",
      "125/125 [==============================] - 0s 2ms/step - loss: 0.4870\n",
      "Epoch 50/100\n",
      "125/125 [==============================] - 0s 2ms/step - loss: 0.4868\n",
      "Epoch 51/100\n",
      "125/125 [==============================] - 0s 2ms/step - loss: 0.4863\n",
      "Epoch 52/100\n",
      "125/125 [==============================] - 0s 2ms/step - loss: 0.4861\n",
      "Epoch 53/100\n",
      "125/125 [==============================] - 0s 2ms/step - loss: 0.4856\n",
      "Epoch 54/100\n",
      "125/125 [==============================] - 0s 2ms/step - loss: 0.4854\n",
      "Epoch 55/100\n",
      "125/125 [==============================] - 0s 2ms/step - loss: 0.4853\n",
      "Epoch 56/100\n",
      "125/125 [==============================] - 0s 2ms/step - loss: 0.4853\n",
      "Epoch 57/100\n",
      "125/125 [==============================] - 0s 2ms/step - loss: 0.4845\n",
      "Epoch 58/100\n",
      "125/125 [==============================] - 0s 2ms/step - loss: 0.4838\n",
      "Epoch 59/100\n",
      "125/125 [==============================] - 0s 2ms/step - loss: 0.4843\n",
      "Epoch 60/100\n",
      "125/125 [==============================] - 0s 2ms/step - loss: 0.4840\n",
      "Epoch 61/100\n",
      "125/125 [==============================] - 0s 2ms/step - loss: 0.4834\n",
      "Epoch 62/100\n",
      "125/125 [==============================] - 0s 2ms/step - loss: 0.4829\n",
      "Epoch 63/100\n",
      "125/125 [==============================] - 0s 2ms/step - loss: 0.4830\n",
      "Epoch 64/100\n",
      "125/125 [==============================] - 0s 2ms/step - loss: 0.4827\n",
      "Epoch 65/100\n",
      "125/125 [==============================] - 0s 2ms/step - loss: 0.4824\n",
      "Epoch 66/100\n",
      "125/125 [==============================] - 0s 2ms/step - loss: 0.4816\n",
      "Epoch 67/100\n",
      "125/125 [==============================] - 0s 2ms/step - loss: 0.4815\n",
      "Epoch 68/100\n",
      "125/125 [==============================] - 0s 2ms/step - loss: 0.4817\n",
      "Epoch 69/100\n",
      "125/125 [==============================] - 0s 1ms/step - loss: 0.4813\n",
      "Epoch 70/100\n",
      "125/125 [==============================] - 0s 1ms/step - loss: 0.4807\n",
      "Epoch 71/100\n",
      "125/125 [==============================] - 0s 1ms/step - loss: 0.4810\n",
      "Epoch 72/100\n",
      "125/125 [==============================] - 0s 1ms/step - loss: 0.4809\n",
      "Epoch 73/100\n",
      "125/125 [==============================] - 0s 1ms/step - loss: 0.4805\n",
      "Epoch 74/100\n",
      "125/125 [==============================] - 0s 1ms/step - loss: 0.4802\n",
      "Epoch 75/100\n",
      "125/125 [==============================] - 0s 1ms/step - loss: 0.4800\n",
      "Epoch 76/100\n",
      "125/125 [==============================] - 0s 1ms/step - loss: 0.4805\n",
      "Epoch 77/100\n",
      "125/125 [==============================] - 0s 1ms/step - loss: 0.4800\n",
      "Epoch 78/100\n",
      "125/125 [==============================] - 0s 1ms/step - loss: 0.4793\n",
      "Epoch 79/100\n",
      "125/125 [==============================] - 0s 1ms/step - loss: 0.4794\n",
      "Epoch 80/100\n",
      "125/125 [==============================] - 0s 1ms/step - loss: 0.4791\n",
      "Epoch 81/100\n",
      "125/125 [==============================] - 0s 2ms/step - loss: 0.4788\n",
      "Epoch 82/100\n",
      "125/125 [==============================] - 0s 1ms/step - loss: 0.4787\n",
      "Epoch 83/100\n",
      "125/125 [==============================] - 0s 1ms/step - loss: 0.4786\n",
      "Epoch 84/100\n",
      "125/125 [==============================] - 0s 1ms/step - loss: 0.4779\n",
      "Epoch 85/100\n",
      "125/125 [==============================] - 0s 2ms/step - loss: 0.4780\n",
      "Epoch 86/100\n",
      "125/125 [==============================] - 0s 1ms/step - loss: 0.4777\n",
      "Epoch 87/100\n",
      "125/125 [==============================] - 0s 2ms/step - loss: 0.4775\n",
      "Epoch 88/100\n",
      "125/125 [==============================] - 0s 1ms/step - loss: 0.4775\n",
      "Epoch 89/100\n",
      "125/125 [==============================] - 0s 2ms/step - loss: 0.4771\n",
      "Epoch 90/100\n",
      "125/125 [==============================] - 0s 1ms/step - loss: 0.4766\n",
      "Epoch 91/100\n",
      "125/125 [==============================] - 0s 1ms/step - loss: 0.4762\n",
      "Epoch 92/100\n",
      "125/125 [==============================] - 0s 1ms/step - loss: 0.4766\n",
      "Epoch 93/100\n",
      "125/125 [==============================] - 0s 1ms/step - loss: 0.4764\n",
      "Epoch 94/100\n",
      "125/125 [==============================] - 0s 1ms/step - loss: 0.4760\n",
      "Epoch 95/100\n",
      "125/125 [==============================] - 0s 2ms/step - loss: 0.4759\n",
      "Epoch 96/100\n",
      "125/125 [==============================] - 0s 1ms/step - loss: 0.4759\n",
      "Epoch 97/100\n",
      "125/125 [==============================] - 0s 2ms/step - loss: 0.4760\n",
      "Epoch 98/100\n",
      "125/125 [==============================] - 0s 1ms/step - loss: 0.4756\n",
      "Epoch 99/100\n"
     ]
    },
    {
     "name": "stdout",
     "output_type": "stream",
     "text": [
      "125/125 [==============================] - 0s 1ms/step - loss: 0.4754\n",
      "Epoch 100/100\n",
      "125/125 [==============================] - 0s 1ms/step - loss: 0.4754\n"
     ]
    },
    {
     "data": {
      "text/plain": [
       "<keras.callbacks.History at 0x18274ce0e80>"
      ]
     },
     "execution_count": 196,
     "metadata": {},
     "output_type": "execute_result"
    }
   ],
   "source": [
    "Ann.compile(optimizer = 'adam', loss = 'binary_crossentropy')\n",
    "Ann.fit(X_train, y_train, batch_size=32, epochs=100)"
   ]
  },
  {
   "cell_type": "code",
   "execution_count": 198,
   "id": "017160ef",
   "metadata": {},
   "outputs": [
    {
     "name": "stdout",
     "output_type": "stream",
     "text": [
      "54/54 [==============================] - 0s 2ms/step\n"
     ]
    }
   ],
   "source": [
    "#### Evaluate the model\n",
    "y_predNN = Ann.predict(X_test)"
   ]
  },
  {
   "cell_type": "code",
   "execution_count": 199,
   "id": "5ed7ebd0",
   "metadata": {},
   "outputs": [],
   "source": [
    "for i in range(len(y_predNN)):\n",
    "    if np.round(y_predNN[i],1) <= 0.5:\n",
    "        y_predNN[i] = 0\n",
    "    if np.round(y_predNN[i],1) > 0.5:\n",
    "        y_predNN[i] = 1"
   ]
  },
  {
   "cell_type": "code",
   "execution_count": 41,
   "id": "32a61113",
   "metadata": {},
   "outputs": [],
   "source": [
    "y_predNN = pd.DataFrame((np.round(y_predNN,1)))"
   ]
  },
  {
   "cell_type": "code",
   "execution_count": 42,
   "id": "fd0affe2",
   "metadata": {},
   "outputs": [
    {
     "name": "stdout",
     "output_type": "stream",
     "text": [
      "Accuracy Score for ANN: 0.7368421052631579\n"
     ]
    }
   ],
   "source": [
    "print(\"Accuracy Score for ANN:\",accuracy_score(y_test, y_predNN))"
   ]
  },
  {
   "cell_type": "code",
   "execution_count": 43,
   "id": "59b1ff42",
   "metadata": {},
   "outputs": [
    {
     "name": "stdout",
     "output_type": "stream",
     "text": [
      "Classification Report for ANN\n",
      "              precision    recall  f1-score   support\n",
      "\n",
      "         0.0       0.75      0.83      0.79       991\n",
      "         1.0       0.72      0.61      0.66       719\n",
      "\n",
      "    accuracy                           0.74      1710\n",
      "   macro avg       0.73      0.72      0.72      1710\n",
      "weighted avg       0.74      0.74      0.73      1710\n",
      "\n"
     ]
    }
   ],
   "source": [
    "print(\"Classification Report for ANN\")\n",
    "print(classification_report(y_test, y_predNN))"
   ]
  },
  {
   "cell_type": "code",
   "execution_count": 44,
   "id": "168b6ac6",
   "metadata": {},
   "outputs": [
    {
     "name": "stdout",
     "output_type": "stream",
     "text": [
      "ROC curves for ANN\n",
      "(array([0.        , 0.17053481, 1.        ]), array([0.        , 0.60917942, 1.        ]), array([2., 1., 0.], dtype=float32))\n"
     ]
    }
   ],
   "source": [
    "print(\"ROC curves for ANN\")\n",
    "print(roc_curve(y_test, y_predNN))"
   ]
  },
  {
   "cell_type": "markdown",
   "id": "a4a7cc60",
   "metadata": {},
   "source": [
    "#### Save the models so as to use them in user interface"
   ]
  },
  {
   "cell_type": "code",
   "execution_count": 85,
   "id": "1882be45",
   "metadata": {},
   "outputs": [],
   "source": [
    "import pickle"
   ]
  },
  {
   "cell_type": "code",
   "execution_count": 86,
   "id": "14bd1444",
   "metadata": {},
   "outputs": [],
   "source": [
    "pickle.dump(knn, open('knn.pkl', 'wb'))"
   ]
  },
  {
   "cell_type": "code",
   "execution_count": 87,
   "id": "4602c90c",
   "metadata": {},
   "outputs": [],
   "source": [
    "pickle.dump(tree, open('tree.pkl', 'wb'))"
   ]
  },
  {
   "cell_type": "code",
   "execution_count": 274,
   "id": "b1ebea6d",
   "metadata": {},
   "outputs": [
    {
     "name": "stdout",
     "output_type": "stream",
     "text": [
      "INFO:tensorflow:Assets written to: ram://910dcae8-5e5b-4fe4-9a80-2b81f1ab7d91/assets\n"
     ]
    }
   ],
   "source": [
    "pickle.dump(Ann, open('Ann.h5', 'wb'))"
   ]
  },
  {
   "cell_type": "markdown",
   "id": "fe2788af",
   "metadata": {},
   "source": [
    "### Create a graphical interface using Gradio"
   ]
  },
  {
   "cell_type": "code",
   "execution_count": 18,
   "id": "5ba576fd",
   "metadata": {},
   "outputs": [],
   "source": [
    "import gradio as gr"
   ]
  },
  {
   "cell_type": "code",
   "execution_count": 212,
   "id": "16c5d450",
   "metadata": {},
   "outputs": [],
   "source": [
    "def Cyp_encoder(Cyp2C9):\n",
    "    cy_dict = {'*1/*1' : 0, '*1/*3': 5, '*1/*2': 4, '*2/*2': 8, '*2/*3' : 9, '*3/*3' : 10,'*1/*5' : 6,'*1/*13' : 2, '*1/*14': 3, '*1/*11': 1, '*1/*6': 7}\n",
    "    for c, d in cy_dict.items():\n",
    "        if Cyp2C9 == c:\n",
    "            Cyp2C9 = d\n",
    "    return Cyp2C9\n",
    "\n",
    "def age_checker(age):\n",
    "    ag = 0\n",
    "    age_dict = {'60 - 69' : 5, '50 - 59': 4, '40 - 49': 3, '70 - 79': 6, '30 - 39': 2, '80 - 89': 7,'90+': 8, '20 - 29': 1, '10 - 19': 0}\n",
    "    for a,v in age_dict.items():\n",
    "        if age == a:\n",
    "            ag = v\n",
    "            \n",
    "    return ag \n",
    "\n",
    "def gend_encoder(gender):\n",
    "    g = 0\n",
    "    if gender == 'Male':\n",
    "        g = 1\n",
    "    if gender == 'Female':\n",
    "        g = 0\n",
    "    return g\n",
    "\n",
    "def race_encoder(race):\n",
    "    r = 0\n",
    "    race_dict = {'White' : 20, 'Other Mixed Race': 19 , 'African-American': 0, 'Black' : 2,\n",
    "       'Hispanic': 10, 'Japanese' : 13, 'Han Chinese' : 9, 'other': 21, 'Asian': 1,\n",
    "       'Korean' : 14, 'Caucasian' : 7, 'Black or African American' : 5, 'Other': 16,\n",
    "       'Intermediate': 12, 'Malay' : 15, 'Chinese' : 8, 'Indian': 11, 'Black Caribbean': 4,\n",
    "       'Other (Hungarian)': 18 , 'Other (Black British)': 17, 'Black African': 3,\n",
    "       'Black other': 6}\n",
    "    for k, v in race_dict.items():\n",
    "        if race == k:\n",
    "            r = v\n",
    "    \n",
    "    return r\n",
    "\n",
    "def Vk_encoder(VKORC1):\n",
    "    if VKORC1 =='A/G':\n",
    "        VKORC1 = 1\n",
    "    if VKORC1 =='A/A':\n",
    "        VKORC1 = 0\n",
    "    if VKORC1 =='G/G':\n",
    "        VKORC1 = 2\n",
    "    return VKORC1"
   ]
  },
  {
   "cell_type": "code",
   "execution_count": 276,
   "id": "72265fa7",
   "metadata": {},
   "outputs": [],
   "source": [
    "# Define the function to do all predictions\n",
    "def predictor(gender, Race_Reported, age, height, weight, diabetes, simvastatin, amiodarone, target, INR, Cyp2C9, VKORC1,algorithm ):\n",
    "    gender = gend_encoder(gender)\n",
    "    race = race_encoder(Race_Reported)\n",
    "    age = age_checker(age)\n",
    "    height = height\n",
    "    diabetes = diabetes\n",
    "    simvastatin = simvastatin\n",
    "    amiodarone = amiodarone\n",
    "    target = target\n",
    "    INR =  INR\n",
    "    Cyp2C9 = Cyp_encoder(Cyp2C9)\n",
    "    VKORC1 = Vk_encoder(VKORC1)\n",
    "    feats = np.array([gender, race, age, height, weight, diabetes, simvastatin, amiodarone, target, INR, Cyp2C9, VKORC1])\n",
    "    if algorithm == \"Knn\":\n",
    "        knn = pickle.load(open('knn.pkl', 'rb'))\n",
    "        pred_val = knn.predict(feats.reshape(1,12))\n",
    "    if algorithm == \"Decision Tree\":\n",
    "        tree = pickle.load(open('tree.pkl', 'rb'))\n",
    "        pred_val = tree.predict(feats.reshape(1,12))\n",
    "    if algorithm == \"Artificial Neural Network\":\n",
    "        pred_val = Ann.predict(feats.reshape(1,12))\n",
    "    if pred_val == 1:\n",
    "        return \"Case: high required dose (HRD) Administer >30 mg/wk\"\n",
    "    if pred_val == 0:\n",
    "        return \"Case: low required dose (LRD) Administer <30 mg/wk\""
   ]
  },
  {
   "cell_type": "code",
   "execution_count": 277,
   "id": "8e88c2e0",
   "metadata": {},
   "outputs": [
    {
     "name": "stdout",
     "output_type": "stream",
     "text": [
      "Running on local URL:  http://127.0.0.1:7898\n",
      "\n",
      "To create a public link, set `share=True` in `launch()`.\n"
     ]
    },
    {
     "data": {
      "text/html": [
       "<div><iframe src=\"http://127.0.0.1:7898/\" width=\"100%\" height=\"500\" allow=\"autoplay; camera; microphone; clipboard-read; clipboard-write;\" frameborder=\"0\" allowfullscreen></iframe></div>"
      ],
      "text/plain": [
       "<IPython.core.display.HTML object>"
      ]
     },
     "metadata": {},
     "output_type": "display_data"
    },
    {
     "data": {
      "text/plain": []
     },
     "execution_count": 277,
     "metadata": {},
     "output_type": "execute_result"
    },
    {
     "name": "stdout",
     "output_type": "stream",
     "text": [
      "1/1 [==============================] - 1s 647ms/step\n"
     ]
    }
   ],
   "source": [
    "# Create the interface\n",
    "with gr.Blocks() as ui:\n",
    "    with gr.Row():\n",
    "        with gr.Column():\n",
    "            gender = gr.Dropdown([\"Male\",\"Female\"],label=\"Gender\")\n",
    "            height = gr.Number(label=\"Height (cm)\")\n",
    "            weight = gr.Number(label=\"Weight (kg)\")\n",
    "            diabetes = gr.Number(label=\"Diabetes\")\n",
    "            simvastatin = gr.Number(label=\"Simvastatin (Zocor)\")\n",
    "            amiodarone = gr.Number(label=\"Amiodarone (Cordarone)\")\n",
    "        with gr.Column():\n",
    "            INR = gr.Number(label=\"INR on Reported Therapeutic Dose of Warfarin\")\n",
    "            target = gr.Number(label=\"Target INR\")\n",
    "            age = gr.Dropdown(['60 - 69', '50 - 59', '40 - 49', '70 - 79', '30 - 39', '80 - 89','90+', '20 - 29', '10 - 19'],label=\"AGE\",type=\"value\")\n",
    "            Race_Reported = gr.Dropdown(['White', 'Other Mixed Race', 'African-American', 'Black','Hispanic', 'Japanese', 'Han Chinese', 'other','Asian',\n",
    "                                        'Korean', 'Caucasian', 'Black or African American', 'Other',\n",
    "                                        'Intermediate', 'Malay', 'Chinese', 'Indian', 'Black Caribbean',\n",
    "                                        'Other (Hungarian)', 'Other (Black British)', 'Black African',\n",
    "                                        'Black other'],label=\"Race (Reported)\",type=\"value\")\n",
    "            Cyp2C9 = gr.Dropdown(['*1/*1', '*1/*3', '*1/*2', '*2/*2', '*2/*3', '*3/*3','*1/*5','*1/*13', '*1/*14', '*1/*11', '*1/*6'], label=\"Cyp2C9 genotypes\", type=\"value\")\n",
    "            VKORC1 = gr.Dropdown(['A/G', 'A/A', 'G/G'], label=\"VKORC1 genotype: -1639 G>A (3673); chr16:31015190; rs9923231; C/T\",type=\"value\") \n",
    "    alg = gr.Dropdown(['Knn','Decision Tree', 'Artificial Neural Network'], label=\"Choose The Algorithm\", type='value')\n",
    "    Evaluate_btn = gr.Button(value=\"Administer The Dose\")\n",
    "    output = gr.Textbox(label=\"Therapeutic Dose of Warfarin\")\n",
    "    Evaluate_btn.click(predictor,inputs = [gender, Race_Reported, age, height, weight, diabetes, simvastatin, amiodarone, target, INR, Cyp2C9, VKORC1, alg], outputs=output)\n",
    "ui.launch()"
   ]
  }
 ],
 "metadata": {
  "kernelspec": {
   "display_name": "Python 3 (ipykernel)",
   "language": "python",
   "name": "python3"
  },
  "language_info": {
   "codemirror_mode": {
    "name": "ipython",
    "version": 3
   },
   "file_extension": ".py",
   "mimetype": "text/x-python",
   "name": "python",
   "nbconvert_exporter": "python",
   "pygments_lexer": "ipython3",
   "version": "3.9.7"
  }
 },
 "nbformat": 4,
 "nbformat_minor": 5
}
